{
  "nbformat": 4,
  "nbformat_minor": 0,
  "metadata": {
    "colab": {
      "name": "Sacar paginas pdf y unir pdf.ipynb",
      "provenance": [],
      "authorship_tag": "ABX9TyO4e+y1r6FNqXBRALKbK3bg",
      "include_colab_link": true
    },
    "kernelspec": {
      "name": "python3",
      "display_name": "Python 3"
    },
    "language_info": {
      "name": "python"
    }
  },
  "cells": [
    {
      "cell_type": "markdown",
      "metadata": {
        "id": "view-in-github",
        "colab_type": "text"
      },
      "source": [
        "<a href=\"https://colab.research.google.com/github/Ozezz/Ozezz/blob/main/Sacar_paginas_pdf_y_unir_pdf.ipynb\" target=\"_parent\"><img src=\"https://colab.research.google.com/assets/colab-badge.svg\" alt=\"Open In Colab\"/></a>"
      ]
    },
    {
      "cell_type": "markdown",
      "source": [
        "# Nueva sección\n",
        "\n",
        "\n",
        "#Log\n",
        "\n",
        "20220726: Añadido para poder rotar páginas de pdf\n",
        "\n",
        "\n",
        "#Readme\n",
        "\n",
        "Programa para extraer primera y última página de documentos PDF.\n",
        "\n",
        "Para comenzar, crea una carpeta que se llame PDFS en archivos. (Menú de la izquierda, botón derecho, nueva carpeta)\n",
        "\n",
        "Copia todos los archivos de los que quieras extraer las páginas.\n",
        "\n",
        "\n",
        "Dale a entorno de ejecución --> ejecutar todas y te generará nuevos archivos con first_and_last.pdf en el nombre.\n",
        "\n",
        "Si tienes documentos pdf que la página que debes extraer está en la posición 2 (habitual cuando los bajas de researchgate) cambia el número 0 por el 1 en la línea que está debajo del comentario \"Cambiar 0 por 1\"\n",
        "\n",
        "Tendrás que hacer este paso con todos los archivos que se extraigan de la primera página, y luego de nuevo con todos los archivos de la segunda.\n"
      ],
      "metadata": {
        "id": "SpuxvdW6QY7E"
      }
    },
    {
      "cell_type": "code",
      "execution_count": null,
      "metadata": {
        "colab": {
          "base_uri": "https://localhost:8080/"
        },
        "id": "tHrbVMNpMqdk",
        "outputId": "69402eda-ce45-4209-b81d-2073ebbe7093"
      },
      "outputs": [
        {
          "output_type": "stream",
          "name": "stdout",
          "text": [
            "Looking in indexes: https://pypi.org/simple, https://us-python.pkg.dev/colab-wheels/public/simple/\n",
            "Collecting PyPDF2\n",
            "  Downloading PyPDF2-2.8.1-py3-none-any.whl (204 kB)\n",
            "\u001b[K     |████████████████████████████████| 204 kB 5.2 MB/s \n",
            "\u001b[?25hRequirement already satisfied: typing-extensions in /usr/local/lib/python3.7/dist-packages (from PyPDF2) (4.1.1)\n",
            "Installing collected packages: PyPDF2\n",
            "Successfully installed PyPDF2-2.8.1\n"
          ]
        }
      ],
      "source": [
        "%pip install PyPDF2\n",
        "import os, PyPDF2\n",
        "from PyPDF2 import PdfFileWriter, PdfFileReader, PdfFileMerger"
      ]
    },
    {
      "cell_type": "markdown",
      "source": [
        "Primero importamos las librerias con las que vamos a trabajar"
      ],
      "metadata": {
        "id": "PTCL1jrNMrlC"
      }
    },
    {
      "cell_type": "code",
      "source": [
        "for filename in os.listdir('PDFS'):\n",
        "    if filename.endswith(\".pdf\"): \n",
        "        # Your code comes here such as \n",
        "        #fichero, archivo = os.path.split(filename)\n",
        "        print(os.path.join('PDFS',filename))\n",
        "        reader = PdfFileReader(os.path.join('PDFS',filename))\n",
        "        writer = PdfFileWriter()\n",
        "    \n",
        "    \n",
        "    #Cmabiar el número por 0 para empezar por la primera página o por 1 para la 2 del pdf\n",
        "    \n",
        "    \n",
        "        page = reader.getPage(1)\n",
        "        writer.addPage(page)\n",
        "    \n",
        "    # print(len(reader.pages))\n",
        "        page1 = reader.getPage(len(reader.pages)-1)\n",
        "        writer.addPage(page1)\n",
        "    \n",
        "    with open(os.path.join('PDFS',filename[:-4]+'_first_and_last.pdf'), \"wb\") as output:\n",
        "      writer.write(output)\n",
        "        "
      ],
      "metadata": {
        "id": "eAr3tLloM3dM"
      },
      "execution_count": null,
      "outputs": []
    },
    {
      "cell_type": "markdown",
      "source": [
        "Para unir todos los archivos que hay en la carpeta.\n",
        "\n",
        "\n",
        "\n",
        "Crea una carpeta que se llame \"PDFS_merge\". Copia los archivos que quieras unir. Para unir todos los archivos que se han generado en el paso previo, copialos en esa carpeta."
      ],
      "metadata": {
        "id": "L3W-F3LYTPQa"
      }
    },
    {
      "cell_type": "code",
      "source": [
        "merger = PdfFileMerger()\n",
        "    # reader = PdfFileReader()\n",
        "for filename in os.listdir('PDFS_merge'):\n",
        "  if filename.endswith(\".pdf\"): \n",
        "        # Your code comes here such as \n",
        "        #fichero, archivo = os.path.split(filename)\n",
        "    print(os.path.join('PDFS_merge',filename))\n",
        "    merger.append(open(os.path.join('PDFS_merge',filename), 'rb'))\n",
        "                \n",
        "with open(os.path.join('PDFS_merge','merged.pdf'), \"wb\") as output:\n",
        "  merger.write(output)            "
      ],
      "metadata": {
        "id": "W8p8syMhTlAk"
      },
      "execution_count": null,
      "outputs": []
    },
    {
      "cell_type": "markdown",
      "source": [
        "Para girar todas las páginas de un pdf"
      ],
      "metadata": {
        "id": "gL80Djc1zRG5"
      }
    },
    {
      "cell_type": "code",
      "source": [
        "    #filename = 'COPIAR AQUI LA RUTA DEL ARCHIVO (BOTON DERECHO UNA VEZ QUE ESTA SUBIDO Y COPIAR RUTA'\n",
        "\n",
        "    filename = '/content/L4_f07.pdf'\n",
        "    \n",
        "    \n",
        "    reader = PdfFileReader(filename)\n",
        "    writer = PdfFileWriter()\n",
        "    \n",
        "    #Cambiar para elegir la pagina que queramos. Recuerda que 0 es la primera pagina. Si quieres cambiar TODAS, poner None\n",
        "\n",
        "    page_to_change = 1\n",
        "\n",
        "\n",
        "\n",
        "    #Cmabiar el número por 0 para empezar por la primera página o por 1 para la 2 del pdf\n",
        "    for pageNum in range(reader.numPages):\n",
        "\n",
        "\n",
        "        if pageNum == None:\n",
        "            page = reader.getPage(pageNum)\n",
        "\n",
        "            page.rotateClockwise(180)        \n",
        "                \n",
        "            writer.addPage(page)\n",
        "        \n",
        "        elif pageNum == page_to_change:\n",
        "            \n",
        "        \n",
        "            page = reader.getPage(pageNum)\n",
        "            \n",
        "            page.rotateClockwise(180)\n",
        "            \n",
        "            writer.addPage(page)\n",
        "\n",
        "        \n",
        "\n",
        "            \n",
        "        else:\n",
        "            \n",
        "            page = reader.getPage(pageNum)\n",
        "                        \n",
        "            writer.addPage(page)\n",
        "    \n",
        "    \n",
        "    with open(filename[:-4] + '_rotated.pdf', \"wb\") as output:\n",
        "        writer.write(output)"
      ],
      "metadata": {
        "colab": {
          "base_uri": "https://localhost:8080/"
        },
        "id": "3dzdxccDzQki",
        "outputId": "e03ca9dd-096e-4e9f-fa5d-6b8687a30b68"
      },
      "execution_count": null,
      "outputs": [
        {
          "output_type": "stream",
          "name": "stderr",
          "text": [
            "/usr/local/lib/python3.7/dist-packages/PyPDF2/_reader.py:1345: PdfReadWarning: Xref table not zero-indexed. ID numbers for objects will be corrected.\n",
            "  PdfReadWarning,\n"
          ]
        }
      ]
    }
  ]
}