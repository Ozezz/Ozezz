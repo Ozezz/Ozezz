{
  "nbformat": 4,
  "nbformat_minor": 0,
  "metadata": {
    "colab": {
      "name": "Copia de Sacar paginas pdf y unir pdf.ipynb",
      "provenance": [],
      "authorship_tag": "ABX9TyOfyLv1z1THjHIBEAKzWlZQ",
      "include_colab_link": true
    },
    "kernelspec": {
      "name": "python3",
      "display_name": "Python 3"
    },
    "language_info": {
      "name": "python"
    }
  },
  "cells": [
    {
      "cell_type": "markdown",
      "metadata": {
        "id": "view-in-github",
        "colab_type": "text"
      },
      "source": [
        "<a href=\"https://colab.research.google.com/github/Ozezz/Ozezz/blob/main/Copia_de_Sacar_paginas_pdf_y_unir_pdf.ipynb\" target=\"_parent\"><img src=\"https://colab.research.google.com/assets/colab-badge.svg\" alt=\"Open In Colab\"/></a>"
      ]
    },
    {
      "cell_type": "markdown",
      "source": [
        "# Nueva sección\n",
        "\n",
        "Programa para extraer primera y última página de documentos PDF.\n",
        "\n",
        "Para comenzar, crea una carpeta que se llame PDFS en archivos. (Menú de la izquierda, botón derecho, nueva carpeta)\n",
        "\n",
        "Copia todos los archivos de los que quieras extraer las páginas.\n",
        "\n",
        "\n",
        "Dale a entorno de ejecución --> ejecutar todas y te generará nuevos archivos con first_and_last.pdf en el nombre.\n",
        "\n",
        "Si tienes documentos pdf que la página que debes extraer está en la posición 2 (habitual cuando los bajas de researchgate) cambia el número 0 por el 1 en la línea que está debajo del comentario \"Cambiar 0 por 1\"\n",
        "\n",
        "Tendrás que hacer este paso con todos los archivos que se extraigan de la primera página, y luego de nuevo con todos los archivos de la segunda.\n"
      ],
      "metadata": {
        "id": "SpuxvdW6QY7E"
      }
    },
    {
      "cell_type": "code",
      "execution_count": null,
      "metadata": {
        "colab": {
          "base_uri": "https://localhost:8080/"
        },
        "id": "tHrbVMNpMqdk",
        "outputId": "518b1412-d414-4848-8568-ef555c5cfbf3"
      },
      "outputs": [
        {
          "output_type": "stream",
          "name": "stdout",
          "text": [
            "Looking in indexes: https://pypi.org/simple, https://us-python.pkg.dev/colab-wheels/public/simple/\n",
            "Collecting PyPDF2\n",
            "  Downloading PyPDF2-2.4.1-py3-none-any.whl (198 kB)\n",
            "\u001b[K     |████████████████████████████████| 198 kB 7.9 MB/s \n",
            "\u001b[?25hRequirement already satisfied: typing-extensions in /usr/local/lib/python3.7/dist-packages (from PyPDF2) (4.1.1)\n",
            "Installing collected packages: PyPDF2\n",
            "Successfully installed PyPDF2-2.4.1\n"
          ]
        }
      ],
      "source": [
        "%pip install PyPDF2\n",
        "import os, PyPDF2\n",
        "from PyPDF2 import PdfFileWriter, PdfFileReader, PdfFileMerger"
      ]
    },
    {
      "cell_type": "markdown",
      "source": [
        "Primero importamos las librerias con las que vamos a trabajar"
      ],
      "metadata": {
        "id": "PTCL1jrNMrlC"
      }
    },
    {
      "cell_type": "code",
      "source": [
        "for filename in os.listdir('PDFS'):\n",
        "    if filename.endswith(\".pdf\"): \n",
        "        # Your code comes here such as \n",
        "        #fichero, archivo = os.path.split(filename)\n",
        "        print(os.path.join('PDFS',filename))\n",
        "        reader = PdfFileReader(os.path.join('PDFS',filename))\n",
        "        writer = PdfFileWriter()\n",
        "    \n",
        "    \n",
        "    #Cmabiar el número por 0 para empezar por la primera página o por 1 para la 2 del pdf\n",
        "    \n",
        "    \n",
        "        page = reader.getPage(1)\n",
        "        writer.addPage(page)\n",
        "    \n",
        "    # print(len(reader.pages))\n",
        "        page1 = reader.getPage(len(reader.pages)-1)\n",
        "        writer.addPage(page1)\n",
        "    \n",
        "    with open(os.path.join('PDFS',filename[:-4]+'_first_and_last.pdf'), \"wb\") as output:\n",
        "      writer.write(output)\n",
        "        "
      ],
      "metadata": {
        "colab": {
          "base_uri": "https://localhost:8080/"
        },
        "id": "eAr3tLloM3dM",
        "outputId": "d6ff691a-b581-4671-c7dd-a7b3a844eabc"
      },
      "execution_count": null,
      "outputs": [
        {
          "output_type": "stream",
          "name": "stdout",
          "text": [
            "PDFS/2019_Giant reflection coefficient.pdf_first_and_last.pdf\n",
            "PDFS/2020_Magnetization process.pdf_first_and_last.pdf_first_and_last.pdf\n",
            "PDFS/2021_Large asymmetry.pdf\n",
            "PDFS/2021_Large asymmetry.pdf_first_and_last.pdf_first_and_last.pdf\n",
            "PDFS/2020_Magnetization process.pdf\n",
            "PDFS/2020_Magnetization process.pdf_first_and_last.pdf\n",
            "PDFS/2019_Giant reflection coefficient.pdf_first_and_last.pdf_first_and_last.pdf\n",
            "PDFS/2021_Large asymmetry.pdf_first_and_last.pdf\n"
          ]
        }
      ]
    },
    {
      "cell_type": "markdown",
      "source": [
        "Para unir todos los archivos que hay en la carpeta.\n",
        "\n",
        "\n",
        "\n",
        "Crea una carpeta que se llame \"PDFS_merge\". Copia los archivos que quieras unir. Para unir todos los archivos que se han generado en el paso previo, copialos en esa carpeta."
      ],
      "metadata": {
        "id": "L3W-F3LYTPQa"
      }
    },
    {
      "cell_type": "code",
      "source": [
        "merger = PdfFileMerger()\n",
        "    # reader = PdfFileReader()\n",
        "for filename in os.listdir('PDFS_merge'):\n",
        "  if filename.endswith(\".pdf\"): \n",
        "        # Your code comes here such as \n",
        "        #fichero, archivo = os.path.split(filename)\n",
        "    print(os.path.join('PDFS_merge',filename))\n",
        "    merger.append(open(os.path.join('PDFS_merge',filename), 'rb'))\n",
        "                \n",
        "with open(os.path.join('PDFS_merge','merged.pdf'), \"wb\") as output:\n",
        "  merger.write(output)            "
      ],
      "metadata": {
        "colab": {
          "base_uri": "https://localhost:8080/"
        },
        "id": "W8p8syMhTlAk",
        "outputId": "dbcc96ef-1787-4d78-a3f7-6c6705db1a55"
      },
      "execution_count": null,
      "outputs": [
        {
          "output_type": "stream",
          "name": "stdout",
          "text": [
            "PDFS_merge/2019_Giant reflection coefficient.pdf_first_and_last.pdf\n",
            "PDFS_merge/2021_Large asymmetry.pdf\n",
            "PDFS_merge/2020_Magnetization process.pdf\n",
            "PDFS_merge/merged.pdf\n",
            "PDFS_merge/2020_Magnetization process.pdf_first_and_last.pdf\n",
            "PDFS_merge/2021_Large asymmetry.pdf_first_and_last.pdf\n"
          ]
        }
      ]
    }
  ]
}